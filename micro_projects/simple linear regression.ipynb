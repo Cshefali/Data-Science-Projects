{
 "cells": [
  {
   "cell_type": "markdown",
   "id": "30de6af0-12aa-4c29-810a-a3c6bd168d6b",
   "metadata": {},
   "source": [
    "## Introduction"
   ]
  },
  {
   "cell_type": "markdown",
   "id": "ed3fada5-6bde-44b9-bfff-99f833f02e72",
   "metadata": {},
   "source": [
    "In this notebook, I've tried experimenting with the observations.  \n",
    "Instead of following the normal workflow of EDA, outliers detection-removal, then move towards model building,  \n",
    "- first I've built the model and check the metrics without any preprocessing.\n",
    "- then, scaling, handling outliers etc. has been done to see how each of these steps improve the model's performance."
   ]
  },
  {
   "cell_type": "markdown",
   "id": "1fd9d73f-37bf-4fbb-bf41-4b88b14f6397",
   "metadata": {},
   "source": [
    "#### Steps:\n",
    "\n",
    "1. Import necessary libraries.\n",
    "2. Create a sample DataFrame.\n",
    "3. Define features (X) and target (y).\n",
    "4. Split the data into train and test sets.\n",
    "5. Standardize the features.\n",
    "6. Initialize and train the respective model.\n",
    "7. Make predictions on the test set.\n",
    "8. Evaluate the model using Mean Squared Error (MSE) and R² Score.\n",
    "9. Plot the actual vs. predicted values."
   ]
  },
  {
   "cell_type": "code",
   "execution_count": 1,
   "id": "b9d4d190-7b48-4037-9453-311617c0d30a",
   "metadata": {},
   "outputs": [],
   "source": [
    "import pandas as pd\n",
    "import matplotlib.pyplot as plt\n",
    "import seaborn as sns\n",
    "import numpy as np"
   ]
  },
  {
   "cell_type": "code",
   "execution_count": 52,
   "id": "0a3f0493-0a63-44f6-91ad-4d216cf83e03",
   "metadata": {},
   "outputs": [],
   "source": [
    "from sklearn.preprocessing import StandardScaler\n",
    "from sklearn.model_selection import train_test_split\n",
    "from sklearn.linear_model import LinearRegression\n",
    "##Model accuracy\n",
    "from sklearn.metrics import mean_absolute_error, mean_absolute_percentage_error, mean_squared_error, r2_score"
   ]
  },
  {
   "cell_type": "code",
   "execution_count": 66,
   "id": "8dd38c04-23cc-4c84-95ca-375d56188ddf",
   "metadata": {},
   "outputs": [],
   "source": [
    "from sklearn.model_selection import GridSearchCV"
   ]
  },
  {
   "cell_type": "code",
   "execution_count": 51,
   "id": "ca3f1016-f94d-4e60-8fca-d82bca488be9",
   "metadata": {},
   "outputs": [],
   "source": [
    "from sklearn.linear_model import Lasso"
   ]
  },
  {
   "cell_type": "code",
   "execution_count": 5,
   "id": "cf39e323-54e3-4b17-a031-5e6d6cade024",
   "metadata": {},
   "outputs": [],
   "source": [
    "salary = pd.read_csv('https://github.com/ybifoundation/Dataset/raw/main/Salary%20Data.csv')"
   ]
  },
  {
   "cell_type": "code",
   "execution_count": 6,
   "id": "adb2617e-294b-4234-8365-99ab2fcfe173",
   "metadata": {},
   "outputs": [
    {
     "name": "stdout",
     "output_type": "stream",
     "text": [
      "<class 'pandas.core.frame.DataFrame'>\n",
      "RangeIndex: 40 entries, 0 to 39\n",
      "Data columns (total 2 columns):\n",
      " #   Column            Non-Null Count  Dtype  \n",
      "---  ------            --------------  -----  \n",
      " 0   Experience Years  40 non-null     float64\n",
      " 1   Salary            40 non-null     int64  \n",
      "dtypes: float64(1), int64(1)\n",
      "memory usage: 772.0 bytes\n"
     ]
    }
   ],
   "source": [
    "salary.info()"
   ]
  },
  {
   "cell_type": "code",
   "execution_count": 7,
   "id": "fdfc36ef-8603-43ee-aff2-3e21d5e1ce00",
   "metadata": {},
   "outputs": [
    {
     "data": {
      "text/html": [
       "<div>\n",
       "<style scoped>\n",
       "    .dataframe tbody tr th:only-of-type {\n",
       "        vertical-align: middle;\n",
       "    }\n",
       "\n",
       "    .dataframe tbody tr th {\n",
       "        vertical-align: top;\n",
       "    }\n",
       "\n",
       "    .dataframe thead th {\n",
       "        text-align: right;\n",
       "    }\n",
       "</style>\n",
       "<table border=\"1\" class=\"dataframe\">\n",
       "  <thead>\n",
       "    <tr style=\"text-align: right;\">\n",
       "      <th></th>\n",
       "      <th>Experience Years</th>\n",
       "      <th>Salary</th>\n",
       "    </tr>\n",
       "  </thead>\n",
       "  <tbody>\n",
       "    <tr>\n",
       "      <th>0</th>\n",
       "      <td>1.1</td>\n",
       "      <td>39343</td>\n",
       "    </tr>\n",
       "    <tr>\n",
       "      <th>1</th>\n",
       "      <td>1.2</td>\n",
       "      <td>42774</td>\n",
       "    </tr>\n",
       "    <tr>\n",
       "      <th>2</th>\n",
       "      <td>1.3</td>\n",
       "      <td>46205</td>\n",
       "    </tr>\n",
       "  </tbody>\n",
       "</table>\n",
       "</div>"
      ],
      "text/plain": [
       "   Experience Years  Salary\n",
       "0               1.1   39343\n",
       "1               1.2   42774\n",
       "2               1.3   46205"
      ]
     },
     "execution_count": 7,
     "metadata": {},
     "output_type": "execute_result"
    }
   ],
   "source": [
    "salary.head(3)"
   ]
  },
  {
   "cell_type": "code",
   "execution_count": 8,
   "id": "68eb3ae4-a80a-4de5-ac59-69fc958af211",
   "metadata": {},
   "outputs": [
    {
     "data": {
      "text/html": [
       "<div>\n",
       "<style scoped>\n",
       "    .dataframe tbody tr th:only-of-type {\n",
       "        vertical-align: middle;\n",
       "    }\n",
       "\n",
       "    .dataframe tbody tr th {\n",
       "        vertical-align: top;\n",
       "    }\n",
       "\n",
       "    .dataframe thead th {\n",
       "        text-align: right;\n",
       "    }\n",
       "</style>\n",
       "<table border=\"1\" class=\"dataframe\">\n",
       "  <thead>\n",
       "    <tr style=\"text-align: right;\">\n",
       "      <th></th>\n",
       "      <th>Experience Years</th>\n",
       "      <th>Salary</th>\n",
       "    </tr>\n",
       "  </thead>\n",
       "  <tbody>\n",
       "    <tr>\n",
       "      <th>count</th>\n",
       "      <td>40.000000</td>\n",
       "      <td>40.000000</td>\n",
       "    </tr>\n",
       "    <tr>\n",
       "      <th>mean</th>\n",
       "      <td>5.152500</td>\n",
       "      <td>74743.625000</td>\n",
       "    </tr>\n",
       "    <tr>\n",
       "      <th>std</th>\n",
       "      <td>2.663715</td>\n",
       "      <td>25947.122885</td>\n",
       "    </tr>\n",
       "    <tr>\n",
       "      <th>min</th>\n",
       "      <td>1.100000</td>\n",
       "      <td>37731.000000</td>\n",
       "    </tr>\n",
       "    <tr>\n",
       "      <th>25%</th>\n",
       "      <td>3.200000</td>\n",
       "      <td>56878.250000</td>\n",
       "    </tr>\n",
       "    <tr>\n",
       "      <th>50%</th>\n",
       "      <td>4.600000</td>\n",
       "      <td>64472.500000</td>\n",
       "    </tr>\n",
       "    <tr>\n",
       "      <th>75%</th>\n",
       "      <td>6.875000</td>\n",
       "      <td>95023.250000</td>\n",
       "    </tr>\n",
       "    <tr>\n",
       "      <th>max</th>\n",
       "      <td>10.500000</td>\n",
       "      <td>122391.000000</td>\n",
       "    </tr>\n",
       "  </tbody>\n",
       "</table>\n",
       "</div>"
      ],
      "text/plain": [
       "       Experience Years         Salary\n",
       "count         40.000000      40.000000\n",
       "mean           5.152500   74743.625000\n",
       "std            2.663715   25947.122885\n",
       "min            1.100000   37731.000000\n",
       "25%            3.200000   56878.250000\n",
       "50%            4.600000   64472.500000\n",
       "75%            6.875000   95023.250000\n",
       "max           10.500000  122391.000000"
      ]
     },
     "execution_count": 8,
     "metadata": {},
     "output_type": "execute_result"
    }
   ],
   "source": [
    "salary.describe()"
   ]
  },
  {
   "cell_type": "code",
   "execution_count": 9,
   "id": "25d023ce-974c-4052-9118-4b7aef794903",
   "metadata": {},
   "outputs": [],
   "source": [
    "#make a copy of dataframe\n",
    "salary2 = salary.copy()"
   ]
  },
  {
   "cell_type": "code",
   "execution_count": 10,
   "id": "d77daa4f-7d73-418c-8f62-23a973d0e7ce",
   "metadata": {},
   "outputs": [],
   "source": [
    "salary2.rename(columns = {'Experience Years': 'years', 'Salary':'income'}, inplace = True)"
   ]
  },
  {
   "cell_type": "code",
   "execution_count": 11,
   "id": "103a35d0-4c3d-4b5b-bd57-53c8c86c350e",
   "metadata": {},
   "outputs": [
    {
     "data": {
      "text/plain": [
       "Index(['years', 'income'], dtype='object')"
      ]
     },
     "execution_count": 11,
     "metadata": {},
     "output_type": "execute_result"
    }
   ],
   "source": [
    "salary2.columns"
   ]
  },
  {
   "cell_type": "markdown",
   "id": "ae6c5b35-56cc-4244-9399-685a479e7dae",
   "metadata": {},
   "source": [
    "### Without Scaling"
   ]
  },
  {
   "cell_type": "code",
   "execution_count": 12,
   "id": "5faec2c7-3a04-43de-9c37-781e4e13277d",
   "metadata": {},
   "outputs": [],
   "source": [
    "X = salary2.years\n",
    "Y = salary2.income"
   ]
  },
  {
   "cell_type": "code",
   "execution_count": 13,
   "id": "acc51d7f-8f01-46a0-8c78-be2a7f8c24a1",
   "metadata": {},
   "outputs": [],
   "source": [
    "\n",
    "X_train, X_test, Y_train, Y_test = train_test_split(X, Y, train_size = 0.7, random_state = 101)"
   ]
  },
  {
   "cell_type": "code",
   "execution_count": 14,
   "id": "d1cc30b4-3322-48a5-9aa3-9ba93e491ed8",
   "metadata": {},
   "outputs": [
    {
     "data": {
      "text/plain": [
       "((28,), (12,), (28,), (12,))"
      ]
     },
     "execution_count": 14,
     "metadata": {},
     "output_type": "execute_result"
    }
   ],
   "source": [
    "#check shape of the subsets\n",
    "X_train.shape, X_test.shape, Y_train.shape, Y_test.shape"
   ]
  },
  {
   "cell_type": "code",
   "execution_count": 15,
   "id": "f08b79ea-583f-4ca8-894e-3fbd0dbbc40e",
   "metadata": {},
   "outputs": [
    {
     "data": {
      "text/plain": [
       "pandas.core.series.Series"
      ]
     },
     "execution_count": 15,
     "metadata": {},
     "output_type": "execute_result"
    }
   ],
   "source": [
    "#what's the type of this object\n",
    "type(X_train)"
   ]
  },
  {
   "cell_type": "code",
   "execution_count": 16,
   "id": "4fe6f72a-74e5-4c32-a16d-3f4182aec59d",
   "metadata": {},
   "outputs": [],
   "source": [
    "#convert all to numpy array\n",
    "X_train = X_train.values.reshape(-1,1)\n",
    "X_test = X_test.values.reshape(-1,1)\n",
    "Y_test = Y_test.values.reshape(-1,1)\n",
    "Y_train = Y_train.values.reshape(-1,1)"
   ]
  },
  {
   "cell_type": "code",
   "execution_count": 17,
   "id": "12413a44-8443-4b51-b795-e2a1d795290b",
   "metadata": {},
   "outputs": [],
   "source": [
    "#model\n",
    "model = LinearRegression()"
   ]
  },
  {
   "cell_type": "code",
   "execution_count": 18,
   "id": "a5003290-3d60-4096-bbe8-9ae181e04154",
   "metadata": {},
   "outputs": [],
   "source": [
    "#reshape the train dataset to be a dataframe, not series\n",
    "#x_train = X_train.values.reshape(-1,1)\n",
    "#X_train.head(3)"
   ]
  },
  {
   "cell_type": "code",
   "execution_count": 19,
   "id": "77f7887a-1403-4324-b5ee-b8a5cfd90981",
   "metadata": {},
   "outputs": [
    {
     "data": {
      "text/html": [
       "<style>#sk-container-id-1 {\n",
       "  /* Definition of color scheme common for light and dark mode */\n",
       "  --sklearn-color-text: black;\n",
       "  --sklearn-color-line: gray;\n",
       "  /* Definition of color scheme for unfitted estimators */\n",
       "  --sklearn-color-unfitted-level-0: #fff5e6;\n",
       "  --sklearn-color-unfitted-level-1: #f6e4d2;\n",
       "  --sklearn-color-unfitted-level-2: #ffe0b3;\n",
       "  --sklearn-color-unfitted-level-3: chocolate;\n",
       "  /* Definition of color scheme for fitted estimators */\n",
       "  --sklearn-color-fitted-level-0: #f0f8ff;\n",
       "  --sklearn-color-fitted-level-1: #d4ebff;\n",
       "  --sklearn-color-fitted-level-2: #b3dbfd;\n",
       "  --sklearn-color-fitted-level-3: cornflowerblue;\n",
       "\n",
       "  /* Specific color for light theme */\n",
       "  --sklearn-color-text-on-default-background: var(--sg-text-color, var(--theme-code-foreground, var(--jp-content-font-color1, black)));\n",
       "  --sklearn-color-background: var(--sg-background-color, var(--theme-background, var(--jp-layout-color0, white)));\n",
       "  --sklearn-color-border-box: var(--sg-text-color, var(--theme-code-foreground, var(--jp-content-font-color1, black)));\n",
       "  --sklearn-color-icon: #696969;\n",
       "\n",
       "  @media (prefers-color-scheme: dark) {\n",
       "    /* Redefinition of color scheme for dark theme */\n",
       "    --sklearn-color-text-on-default-background: var(--sg-text-color, var(--theme-code-foreground, var(--jp-content-font-color1, white)));\n",
       "    --sklearn-color-background: var(--sg-background-color, var(--theme-background, var(--jp-layout-color0, #111)));\n",
       "    --sklearn-color-border-box: var(--sg-text-color, var(--theme-code-foreground, var(--jp-content-font-color1, white)));\n",
       "    --sklearn-color-icon: #878787;\n",
       "  }\n",
       "}\n",
       "\n",
       "#sk-container-id-1 {\n",
       "  color: var(--sklearn-color-text);\n",
       "}\n",
       "\n",
       "#sk-container-id-1 pre {\n",
       "  padding: 0;\n",
       "}\n",
       "\n",
       "#sk-container-id-1 input.sk-hidden--visually {\n",
       "  border: 0;\n",
       "  clip: rect(1px 1px 1px 1px);\n",
       "  clip: rect(1px, 1px, 1px, 1px);\n",
       "  height: 1px;\n",
       "  margin: -1px;\n",
       "  overflow: hidden;\n",
       "  padding: 0;\n",
       "  position: absolute;\n",
       "  width: 1px;\n",
       "}\n",
       "\n",
       "#sk-container-id-1 div.sk-dashed-wrapped {\n",
       "  border: 1px dashed var(--sklearn-color-line);\n",
       "  margin: 0 0.4em 0.5em 0.4em;\n",
       "  box-sizing: border-box;\n",
       "  padding-bottom: 0.4em;\n",
       "  background-color: var(--sklearn-color-background);\n",
       "}\n",
       "\n",
       "#sk-container-id-1 div.sk-container {\n",
       "  /* jupyter's `normalize.less` sets `[hidden] { display: none; }`\n",
       "     but bootstrap.min.css set `[hidden] { display: none !important; }`\n",
       "     so we also need the `!important` here to be able to override the\n",
       "     default hidden behavior on the sphinx rendered scikit-learn.org.\n",
       "     See: https://github.com/scikit-learn/scikit-learn/issues/21755 */\n",
       "  display: inline-block !important;\n",
       "  position: relative;\n",
       "}\n",
       "\n",
       "#sk-container-id-1 div.sk-text-repr-fallback {\n",
       "  display: none;\n",
       "}\n",
       "\n",
       "div.sk-parallel-item,\n",
       "div.sk-serial,\n",
       "div.sk-item {\n",
       "  /* draw centered vertical line to link estimators */\n",
       "  background-image: linear-gradient(var(--sklearn-color-text-on-default-background), var(--sklearn-color-text-on-default-background));\n",
       "  background-size: 2px 100%;\n",
       "  background-repeat: no-repeat;\n",
       "  background-position: center center;\n",
       "}\n",
       "\n",
       "/* Parallel-specific style estimator block */\n",
       "\n",
       "#sk-container-id-1 div.sk-parallel-item::after {\n",
       "  content: \"\";\n",
       "  width: 100%;\n",
       "  border-bottom: 2px solid var(--sklearn-color-text-on-default-background);\n",
       "  flex-grow: 1;\n",
       "}\n",
       "\n",
       "#sk-container-id-1 div.sk-parallel {\n",
       "  display: flex;\n",
       "  align-items: stretch;\n",
       "  justify-content: center;\n",
       "  background-color: var(--sklearn-color-background);\n",
       "  position: relative;\n",
       "}\n",
       "\n",
       "#sk-container-id-1 div.sk-parallel-item {\n",
       "  display: flex;\n",
       "  flex-direction: column;\n",
       "}\n",
       "\n",
       "#sk-container-id-1 div.sk-parallel-item:first-child::after {\n",
       "  align-self: flex-end;\n",
       "  width: 50%;\n",
       "}\n",
       "\n",
       "#sk-container-id-1 div.sk-parallel-item:last-child::after {\n",
       "  align-self: flex-start;\n",
       "  width: 50%;\n",
       "}\n",
       "\n",
       "#sk-container-id-1 div.sk-parallel-item:only-child::after {\n",
       "  width: 0;\n",
       "}\n",
       "\n",
       "/* Serial-specific style estimator block */\n",
       "\n",
       "#sk-container-id-1 div.sk-serial {\n",
       "  display: flex;\n",
       "  flex-direction: column;\n",
       "  align-items: center;\n",
       "  background-color: var(--sklearn-color-background);\n",
       "  padding-right: 1em;\n",
       "  padding-left: 1em;\n",
       "}\n",
       "\n",
       "\n",
       "/* Toggleable style: style used for estimator/Pipeline/ColumnTransformer box that is\n",
       "clickable and can be expanded/collapsed.\n",
       "- Pipeline and ColumnTransformer use this feature and define the default style\n",
       "- Estimators will overwrite some part of the style using the `sk-estimator` class\n",
       "*/\n",
       "\n",
       "/* Pipeline and ColumnTransformer style (default) */\n",
       "\n",
       "#sk-container-id-1 div.sk-toggleable {\n",
       "  /* Default theme specific background. It is overwritten whether we have a\n",
       "  specific estimator or a Pipeline/ColumnTransformer */\n",
       "  background-color: var(--sklearn-color-background);\n",
       "}\n",
       "\n",
       "/* Toggleable label */\n",
       "#sk-container-id-1 label.sk-toggleable__label {\n",
       "  cursor: pointer;\n",
       "  display: block;\n",
       "  width: 100%;\n",
       "  margin-bottom: 0;\n",
       "  padding: 0.5em;\n",
       "  box-sizing: border-box;\n",
       "  text-align: center;\n",
       "}\n",
       "\n",
       "#sk-container-id-1 label.sk-toggleable__label-arrow:before {\n",
       "  /* Arrow on the left of the label */\n",
       "  content: \"▸\";\n",
       "  float: left;\n",
       "  margin-right: 0.25em;\n",
       "  color: var(--sklearn-color-icon);\n",
       "}\n",
       "\n",
       "#sk-container-id-1 label.sk-toggleable__label-arrow:hover:before {\n",
       "  color: var(--sklearn-color-text);\n",
       "}\n",
       "\n",
       "/* Toggleable content - dropdown */\n",
       "\n",
       "#sk-container-id-1 div.sk-toggleable__content {\n",
       "  max-height: 0;\n",
       "  max-width: 0;\n",
       "  overflow: hidden;\n",
       "  text-align: left;\n",
       "  /* unfitted */\n",
       "  background-color: var(--sklearn-color-unfitted-level-0);\n",
       "}\n",
       "\n",
       "#sk-container-id-1 div.sk-toggleable__content.fitted {\n",
       "  /* fitted */\n",
       "  background-color: var(--sklearn-color-fitted-level-0);\n",
       "}\n",
       "\n",
       "#sk-container-id-1 div.sk-toggleable__content pre {\n",
       "  margin: 0.2em;\n",
       "  border-radius: 0.25em;\n",
       "  color: var(--sklearn-color-text);\n",
       "  /* unfitted */\n",
       "  background-color: var(--sklearn-color-unfitted-level-0);\n",
       "}\n",
       "\n",
       "#sk-container-id-1 div.sk-toggleable__content.fitted pre {\n",
       "  /* unfitted */\n",
       "  background-color: var(--sklearn-color-fitted-level-0);\n",
       "}\n",
       "\n",
       "#sk-container-id-1 input.sk-toggleable__control:checked~div.sk-toggleable__content {\n",
       "  /* Expand drop-down */\n",
       "  max-height: 200px;\n",
       "  max-width: 100%;\n",
       "  overflow: auto;\n",
       "}\n",
       "\n",
       "#sk-container-id-1 input.sk-toggleable__control:checked~label.sk-toggleable__label-arrow:before {\n",
       "  content: \"▾\";\n",
       "}\n",
       "\n",
       "/* Pipeline/ColumnTransformer-specific style */\n",
       "\n",
       "#sk-container-id-1 div.sk-label input.sk-toggleable__control:checked~label.sk-toggleable__label {\n",
       "  color: var(--sklearn-color-text);\n",
       "  background-color: var(--sklearn-color-unfitted-level-2);\n",
       "}\n",
       "\n",
       "#sk-container-id-1 div.sk-label.fitted input.sk-toggleable__control:checked~label.sk-toggleable__label {\n",
       "  background-color: var(--sklearn-color-fitted-level-2);\n",
       "}\n",
       "\n",
       "/* Estimator-specific style */\n",
       "\n",
       "/* Colorize estimator box */\n",
       "#sk-container-id-1 div.sk-estimator input.sk-toggleable__control:checked~label.sk-toggleable__label {\n",
       "  /* unfitted */\n",
       "  background-color: var(--sklearn-color-unfitted-level-2);\n",
       "}\n",
       "\n",
       "#sk-container-id-1 div.sk-estimator.fitted input.sk-toggleable__control:checked~label.sk-toggleable__label {\n",
       "  /* fitted */\n",
       "  background-color: var(--sklearn-color-fitted-level-2);\n",
       "}\n",
       "\n",
       "#sk-container-id-1 div.sk-label label.sk-toggleable__label,\n",
       "#sk-container-id-1 div.sk-label label {\n",
       "  /* The background is the default theme color */\n",
       "  color: var(--sklearn-color-text-on-default-background);\n",
       "}\n",
       "\n",
       "/* On hover, darken the color of the background */\n",
       "#sk-container-id-1 div.sk-label:hover label.sk-toggleable__label {\n",
       "  color: var(--sklearn-color-text);\n",
       "  background-color: var(--sklearn-color-unfitted-level-2);\n",
       "}\n",
       "\n",
       "/* Label box, darken color on hover, fitted */\n",
       "#sk-container-id-1 div.sk-label.fitted:hover label.sk-toggleable__label.fitted {\n",
       "  color: var(--sklearn-color-text);\n",
       "  background-color: var(--sklearn-color-fitted-level-2);\n",
       "}\n",
       "\n",
       "/* Estimator label */\n",
       "\n",
       "#sk-container-id-1 div.sk-label label {\n",
       "  font-family: monospace;\n",
       "  font-weight: bold;\n",
       "  display: inline-block;\n",
       "  line-height: 1.2em;\n",
       "}\n",
       "\n",
       "#sk-container-id-1 div.sk-label-container {\n",
       "  text-align: center;\n",
       "}\n",
       "\n",
       "/* Estimator-specific */\n",
       "#sk-container-id-1 div.sk-estimator {\n",
       "  font-family: monospace;\n",
       "  border: 1px dotted var(--sklearn-color-border-box);\n",
       "  border-radius: 0.25em;\n",
       "  box-sizing: border-box;\n",
       "  margin-bottom: 0.5em;\n",
       "  /* unfitted */\n",
       "  background-color: var(--sklearn-color-unfitted-level-0);\n",
       "}\n",
       "\n",
       "#sk-container-id-1 div.sk-estimator.fitted {\n",
       "  /* fitted */\n",
       "  background-color: var(--sklearn-color-fitted-level-0);\n",
       "}\n",
       "\n",
       "/* on hover */\n",
       "#sk-container-id-1 div.sk-estimator:hover {\n",
       "  /* unfitted */\n",
       "  background-color: var(--sklearn-color-unfitted-level-2);\n",
       "}\n",
       "\n",
       "#sk-container-id-1 div.sk-estimator.fitted:hover {\n",
       "  /* fitted */\n",
       "  background-color: var(--sklearn-color-fitted-level-2);\n",
       "}\n",
       "\n",
       "/* Specification for estimator info (e.g. \"i\" and \"?\") */\n",
       "\n",
       "/* Common style for \"i\" and \"?\" */\n",
       "\n",
       ".sk-estimator-doc-link,\n",
       "a:link.sk-estimator-doc-link,\n",
       "a:visited.sk-estimator-doc-link {\n",
       "  float: right;\n",
       "  font-size: smaller;\n",
       "  line-height: 1em;\n",
       "  font-family: monospace;\n",
       "  background-color: var(--sklearn-color-background);\n",
       "  border-radius: 1em;\n",
       "  height: 1em;\n",
       "  width: 1em;\n",
       "  text-decoration: none !important;\n",
       "  margin-left: 1ex;\n",
       "  /* unfitted */\n",
       "  border: var(--sklearn-color-unfitted-level-1) 1pt solid;\n",
       "  color: var(--sklearn-color-unfitted-level-1);\n",
       "}\n",
       "\n",
       ".sk-estimator-doc-link.fitted,\n",
       "a:link.sk-estimator-doc-link.fitted,\n",
       "a:visited.sk-estimator-doc-link.fitted {\n",
       "  /* fitted */\n",
       "  border: var(--sklearn-color-fitted-level-1) 1pt solid;\n",
       "  color: var(--sklearn-color-fitted-level-1);\n",
       "}\n",
       "\n",
       "/* On hover */\n",
       "div.sk-estimator:hover .sk-estimator-doc-link:hover,\n",
       ".sk-estimator-doc-link:hover,\n",
       "div.sk-label-container:hover .sk-estimator-doc-link:hover,\n",
       ".sk-estimator-doc-link:hover {\n",
       "  /* unfitted */\n",
       "  background-color: var(--sklearn-color-unfitted-level-3);\n",
       "  color: var(--sklearn-color-background);\n",
       "  text-decoration: none;\n",
       "}\n",
       "\n",
       "div.sk-estimator.fitted:hover .sk-estimator-doc-link.fitted:hover,\n",
       ".sk-estimator-doc-link.fitted:hover,\n",
       "div.sk-label-container:hover .sk-estimator-doc-link.fitted:hover,\n",
       ".sk-estimator-doc-link.fitted:hover {\n",
       "  /* fitted */\n",
       "  background-color: var(--sklearn-color-fitted-level-3);\n",
       "  color: var(--sklearn-color-background);\n",
       "  text-decoration: none;\n",
       "}\n",
       "\n",
       "/* Span, style for the box shown on hovering the info icon */\n",
       ".sk-estimator-doc-link span {\n",
       "  display: none;\n",
       "  z-index: 9999;\n",
       "  position: relative;\n",
       "  font-weight: normal;\n",
       "  right: .2ex;\n",
       "  padding: .5ex;\n",
       "  margin: .5ex;\n",
       "  width: min-content;\n",
       "  min-width: 20ex;\n",
       "  max-width: 50ex;\n",
       "  color: var(--sklearn-color-text);\n",
       "  box-shadow: 2pt 2pt 4pt #999;\n",
       "  /* unfitted */\n",
       "  background: var(--sklearn-color-unfitted-level-0);\n",
       "  border: .5pt solid var(--sklearn-color-unfitted-level-3);\n",
       "}\n",
       "\n",
       ".sk-estimator-doc-link.fitted span {\n",
       "  /* fitted */\n",
       "  background: var(--sklearn-color-fitted-level-0);\n",
       "  border: var(--sklearn-color-fitted-level-3);\n",
       "}\n",
       "\n",
       ".sk-estimator-doc-link:hover span {\n",
       "  display: block;\n",
       "}\n",
       "\n",
       "/* \"?\"-specific style due to the `<a>` HTML tag */\n",
       "\n",
       "#sk-container-id-1 a.estimator_doc_link {\n",
       "  float: right;\n",
       "  font-size: 1rem;\n",
       "  line-height: 1em;\n",
       "  font-family: monospace;\n",
       "  background-color: var(--sklearn-color-background);\n",
       "  border-radius: 1rem;\n",
       "  height: 1rem;\n",
       "  width: 1rem;\n",
       "  text-decoration: none;\n",
       "  /* unfitted */\n",
       "  color: var(--sklearn-color-unfitted-level-1);\n",
       "  border: var(--sklearn-color-unfitted-level-1) 1pt solid;\n",
       "}\n",
       "\n",
       "#sk-container-id-1 a.estimator_doc_link.fitted {\n",
       "  /* fitted */\n",
       "  border: var(--sklearn-color-fitted-level-1) 1pt solid;\n",
       "  color: var(--sklearn-color-fitted-level-1);\n",
       "}\n",
       "\n",
       "/* On hover */\n",
       "#sk-container-id-1 a.estimator_doc_link:hover {\n",
       "  /* unfitted */\n",
       "  background-color: var(--sklearn-color-unfitted-level-3);\n",
       "  color: var(--sklearn-color-background);\n",
       "  text-decoration: none;\n",
       "}\n",
       "\n",
       "#sk-container-id-1 a.estimator_doc_link.fitted:hover {\n",
       "  /* fitted */\n",
       "  background-color: var(--sklearn-color-fitted-level-3);\n",
       "}\n",
       "</style><div id=\"sk-container-id-1\" class=\"sk-top-container\"><div class=\"sk-text-repr-fallback\"><pre>LinearRegression()</pre><b>In a Jupyter environment, please rerun this cell to show the HTML representation or trust the notebook. <br />On GitHub, the HTML representation is unable to render, please try loading this page with nbviewer.org.</b></div><div class=\"sk-container\" hidden><div class=\"sk-item\"><div class=\"sk-estimator fitted sk-toggleable\"><input class=\"sk-toggleable__control sk-hidden--visually\" id=\"sk-estimator-id-1\" type=\"checkbox\" checked><label for=\"sk-estimator-id-1\" class=\"sk-toggleable__label fitted sk-toggleable__label-arrow fitted\">&nbsp;&nbsp;LinearRegression<a class=\"sk-estimator-doc-link fitted\" rel=\"noreferrer\" target=\"_blank\" href=\"https://scikit-learn.org/1.5/modules/generated/sklearn.linear_model.LinearRegression.html\">?<span>Documentation for LinearRegression</span></a><span class=\"sk-estimator-doc-link fitted\">i<span>Fitted</span></span></label><div class=\"sk-toggleable__content fitted\"><pre>LinearRegression()</pre></div> </div></div></div></div>"
      ],
      "text/plain": [
       "LinearRegression()"
      ]
     },
     "execution_count": 19,
     "metadata": {},
     "output_type": "execute_result"
    }
   ],
   "source": [
    "#train the model\n",
    "model.fit(X_train, Y_train)"
   ]
  },
  {
   "cell_type": "code",
   "execution_count": 20,
   "id": "4de8b762-933e-47fc-92d9-2e29b224ef85",
   "metadata": {},
   "outputs": [
    {
     "name": "stdout",
     "output_type": "stream",
     "text": [
      "Intercept: [26193.35145929]\n",
      "Coefficient: [[9254.54992096]]\n",
      "Linear Regression Eq: y = (9254.55)X + 26193.35\n"
     ]
    }
   ],
   "source": [
    "#see all attributes, functions present for model object\n",
    "#dir(model)\n",
    "#check intercept and x-coefficient\n",
    "print(\"Intercept: {0}\".format(model.intercept_))\n",
    "print(\"Coefficient: {0}\".format(model.coef_))\n",
    "print(\"Linear Regression Eq: y = ({0})X + {1}\".format(round(model.coef_.item(),2), round(model.intercept_.item(),2)))"
   ]
  },
  {
   "cell_type": "code",
   "execution_count": 21,
   "id": "1cedb7e3-a0f6-41fd-aed1-8f6ab21628c0",
   "metadata": {},
   "outputs": [],
   "source": [
    "#perform prediction\n",
    "y_pred = model.predict(X_test)"
   ]
  },
  {
   "cell_type": "code",
   "execution_count": 22,
   "id": "e5104acf-384c-4263-80ef-f6f8163c6f81",
   "metadata": {},
   "outputs": [
    {
     "data": {
      "text/plain": [
       "array([[ 65987.91611942],\n",
       "       [ 63211.55114313],\n",
       "       [114111.57570841]])"
      ]
     },
     "execution_count": 22,
     "metadata": {},
     "output_type": "execute_result"
    }
   ],
   "source": [
    "#glimpse\n",
    "y_pred[0:3]"
   ]
  },
  {
   "cell_type": "code",
   "execution_count": 24,
   "id": "ba0e6a9b-30cc-418f-a286-363fe32ef0bc",
   "metadata": {},
   "outputs": [],
   "source": [
    "mae = mean_absolute_error(y_pred, Y_test)\n",
    "mae_percent = mean_absolute_percentage_error(y_pred, Y_test)\n",
    "mse = mean_squared_error(y_pred, Y_test)"
   ]
  },
  {
   "cell_type": "code",
   "execution_count": 25,
   "id": "55422776-5474-4ef2-8ba4-ff17524f1ed9",
   "metadata": {},
   "outputs": [
    {
     "name": "stdout",
     "output_type": "stream",
     "text": [
      "Mean Absolute Error: 5943.550801606815\n",
      "Mean Absolute Percentage Error: 0.08108403900679219\n",
      "Mean Squared Error: 46267147.44799886\n"
     ]
    }
   ],
   "source": [
    "#view all errors\n",
    "print(\"Mean Absolute Error: {0}\".format(mae))\n",
    "print(\"Mean Absolute Percentage Error: {0}\".format(mae_percent))\n",
    "print(\"Mean Squared Error: {0}\".format(mse))"
   ]
  },
  {
   "cell_type": "markdown",
   "id": "06deed6e-7b18-42de-8052-b47835a029c1",
   "metadata": {},
   "source": [
    "- On average, the model's predicted salary deviates from the original salary by 5943 rupees. (MAE)\n",
    "- On average, model's predictions are off by about 8.11% relative to original salary values (MAPE)\n",
    "- Mean Sqaured error is very large implying model's sensitivity to some large deviations in predictions.\n",
    "\n",
    "___Since MSE is relatively very high as compared to MAE, it suggests presence of large outliers in the dataset which will be investigated further.___"
   ]
  },
  {
   "cell_type": "markdown",
   "id": "3e9ffbdd-f0f6-45eb-b3cb-5a9c79e6676e",
   "metadata": {},
   "source": [
    "#### Checking for outliers using residual plot"
   ]
  },
  {
   "cell_type": "code",
   "execution_count": 26,
   "id": "ebe5b724-e6f3-40fc-81ec-8e5513ffa6af",
   "metadata": {},
   "outputs": [],
   "source": [
    "#run model on the training set to find the outcomes\n",
    "training_pred = model.predict(X_train)"
   ]
  },
  {
   "cell_type": "code",
   "execution_count": 27,
   "id": "8e6dd2bb-8950-4ae7-9bf6-314222303cca",
   "metadata": {},
   "outputs": [],
   "source": [
    "#convert to 1-D array\n",
    "#ytrain = np.array([Y_train])\n",
    "#train_pred = np.array([training_pred])\n",
    "#find residual\n",
    "residuals = Y_train - training_pred"
   ]
  },
  {
   "cell_type": "code",
   "execution_count": 28,
   "id": "e626cb37-e5d6-49a6-b5b7-369deff6d2bf",
   "metadata": {},
   "outputs": [],
   "source": [
    "# Flatten the residuals if it's 2D\n",
    "if residuals.ndim == 2:\n",
    "    residuals = residuals.ravel()"
   ]
  },
  {
   "cell_type": "markdown",
   "id": "ab128492-0d2f-421b-8e1e-1525782239e2",
   "metadata": {},
   "source": [
    "#### Residual Plot"
   ]
  },
  {
   "cell_type": "code",
   "execution_count": 29,
   "id": "c50692e5-be18-40d1-b69f-2ae8c2025498",
   "metadata": {},
   "outputs": [
    {
     "data": {
      "image/png": "[encoded data removed]",
      "text/plain": [
       "<Figure size 600x400 with 1 Axes>"
      ]
     },
     "metadata": {},
     "output_type": "display_data"
    }
   ],
   "source": [
    "#plot the residual\n",
    "plt.figure(figsize=(6, 4))\n",
    "sns.scatterplot(x=range(len(residuals)), y=residuals)\n",
    "plt.axhline(y=0, color = 'red', linestyle='--')\n",
    "plt.title('Residual Plot')\n",
    "plt.xlabel('Index')\n",
    "plt.ylabel('Residuals')\n",
    "plt.show()"
   ]
  },
  {
   "cell_type": "markdown",
   "id": "d400bbdc-c9e5-430d-a4d2-f9b41e4800e3",
   "metadata": {},
   "source": [
    "- Points do not follow any pattern and are randomly scattered. Model seems to capture relationship- OK.\n",
    "- Some points way too far from the baseline. But as checked from graphs below, no outliers present. So, accuracy can be improved.\n",
    "- Let's see how scaling affects the model coefficients and output."
   ]
  },
  {
   "cell_type": "markdown",
   "id": "7408cc36-bd14-459e-9b2f-4eeef897cbc2",
   "metadata": {},
   "source": [
    "#### Visualize fit of the model"
   ]
  },
  {
   "cell_type": "code",
   "execution_count": 30,
   "id": "2d6ce64d-73b4-4569-a4bc-407340d8b662",
   "metadata": {},
   "outputs": [],
   "source": [
    "#convert xtest and ypred etc. to 1-d array for plotting\n",
    "xtest_1d = X_test.ravel()\n",
    "ypred_1d = y_pred.ravel()\n",
    "ytest_1d = Y_test.ravel()"
   ]
  },
  {
   "cell_type": "code",
   "execution_count": 31,
   "id": "de9b3201-3c1d-4857-8155-d0084f540841",
   "metadata": {},
   "outputs": [],
   "source": [
    "xtrain_1d = X_train.ravel()\n",
    "ytrain_1d = Y_train.ravel()\n",
    "training_pred_1d = training_pred.ravel()"
   ]
  },
  {
   "cell_type": "code",
   "execution_count": 32,
   "id": "afa6c0c9-25ff-4bad-b1d6-bbfd01382d9b",
   "metadata": {},
   "outputs": [
    {
     "data": {
      "image/png": "[encoded data removed]",
      "text/plain": [
       "<Figure size 800x400 with 2 Axes>"
      ]
     },
     "metadata": {},
     "output_type": "display_data"
    }
   ],
   "source": [
    "#visualize the result of model on training and test set\n",
    "fig, ax = plt.subplots(1, 2, figsize = (8,4))\n",
    "\n",
    "#subplot 1\n",
    "ax[0].scatter(X_test, Y_test, color = 'blue', label = 'original salary', s=11)\n",
    "sns.lineplot(x=xtest_1d, y=ypred_1d, ax=ax[0], color='red', label='predicted salary')\n",
    "ax[0].set_title('model prediction on test data', fontsize = 10)\n",
    "ax[0].tick_params(axis = 'both', labelsize = 7)\n",
    "ax[0].set_xlabel('work exp', fontsize = 8)\n",
    "ax[0].set_ylabel('salary', fontsize=8)\n",
    "\n",
    "#subplot 2\n",
    "ax[1].scatter(X_train, Y_train, color = 'blue', label = 'original salary', s=11)\n",
    "sns.lineplot(x=xtrain_1d, y=training_pred_1d, ax=ax[1], color='red', label='predicted salary')\n",
    "ax[1].set_title('model prediction on train data', fontsize = 10)\n",
    "ax[1].tick_params(axis = 'both', labelsize = 7)\n",
    "#ax[1].set_xlabel('work exp', fontsize = 8)\n",
    "ax[1].set_ylabel('salary', fontsize=8)\n",
    "\n",
    "plt.show()"
   ]
  },
  {
   "cell_type": "markdown",
   "id": "bb8156a3-330e-44d6-890e-0befd8e3ea9f",
   "metadata": {},
   "source": [
    "From everything I saw above:  \n",
    "1. Mean absolute percentage error was only 8.11% but mean squared error was very high.\n",
    "2. From these graphs above, the line seesm to fit the model good!\n",
    "3. The scale of the features might be impacting the large error values.\n",
    "4. Now, i'll scale the data and check the metrics again.."
   ]
  },
  {
   "cell_type": "markdown",
   "id": "865ec4dd-a60e-4e19-b139-c5b2dc6035f4",
   "metadata": {},
   "source": [
    "## Model performance after scaling"
   ]
  },
  {
   "cell_type": "markdown",
   "id": "eaa657e6-b450-4f1c-8859-d7c150ced323",
   "metadata": {},
   "source": [
    "#### 1. Density Distribution"
   ]
  },
  {
   "cell_type": "code",
   "execution_count": 33,
   "id": "fd856cb5-1165-4296-9bfb-355474f8cd2f",
   "metadata": {},
   "outputs": [
    {
     "data": {
      "image/png": "[encoded data removed]",
      "text/plain": [
       "<Figure size 800x300 with 2 Axes>"
      ]
     },
     "metadata": {},
     "output_type": "display_data"
    }
   ],
   "source": [
    "#check distribution of work experience and salary\n",
    "fig, ax = plt.subplots(1, 2, figsize = (8,3))\n",
    "\n",
    "sns.kdeplot(salary2.years, ax=ax[0], fill=True)\n",
    "ax[0].set_title('distribution of work experience', fontsize = 10)\n",
    "ax[0].set_xlabel('work exp', fontsize = 7)\n",
    "ax[0].set_ylabel('')\n",
    "ax[0].tick_params(axis = 'x', labelsize = 6)\n",
    "ax[0].tick_params(axis = 'y', labelsize = 6)\n",
    "\n",
    "sns.kdeplot(salary2.income, ax = ax[1], fill = True)\n",
    "ax[1].set_title('distribution of salary', fontsize = 10)\n",
    "ax[1].set_xlabel('salary', fontsize = 7)\n",
    "ax[1].set_ylabel('')\n",
    "ax[1].tick_params(axis = 'x', labelsize = 6)\n",
    "ax[1].tick_params(axis = 'y', labelsize = 6)\n",
    "\n",
    "plt.tight_layout()\n",
    "plt.show()"
   ]
  },
  {
   "cell_type": "markdown",
   "id": "bf1c3c6e-a157-4f4d-98ae-b6608863afd2",
   "metadata": {},
   "source": [
    "#### 2. Scatter Plot"
   ]
  },
  {
   "cell_type": "code",
   "execution_count": 34,
   "id": "9ce641d9-121e-47af-9b3c-f17a933a08fb",
   "metadata": {},
   "outputs": [
    {
     "data": {
      "image/png": "[encoded data removed]",
      "text/plain": [
       "<Figure size 300x300 with 1 Axes>"
      ]
     },
     "metadata": {},
     "output_type": "display_data"
    }
   ],
   "source": [
    "fig, ax = plt.subplots(1, 1, figsize = (3,3))\n",
    "plt.scatter(salary2.years, salary2.income, c='red', s=10)\n",
    "plt.title('positive linear relationship', fontsize = 8)\n",
    "plt.tick_params(axis = 'both', labelsize = 7)\n",
    "plt.xlabel('work exp (years', fontsize = 8)\n",
    "plt.ylabel('salary', fontsize = 8)\n",
    "plt.show()"
   ]
  },
  {
   "cell_type": "markdown",
   "id": "8a094d9f-74dd-48cb-bef9-2205b9083c65",
   "metadata": {},
   "source": [
    "#### 3. Box Plot"
   ]
  },
  {
   "cell_type": "code",
   "execution_count": 35,
   "id": "14c4205e-0825-43b7-950b-1deac5496118",
   "metadata": {},
   "outputs": [
    {
     "data": {
      "image/png": "[encoded data removed]",
      "text/plain": [
       "<Figure size 700x100 with 1 Axes>"
      ]
     },
     "metadata": {},
     "output_type": "display_data"
    }
   ],
   "source": [
    "plt.figure(figsize = (7,1))\n",
    "\n",
    "sns.boxplot(salary2.income, orient = 'h', width = 0.4, color='orange')\n",
    "plt.title('checking for outliers in income', fontsize = 10)\n",
    "plt.show()"
   ]
  },
  {
   "cell_type": "markdown",
   "id": "a597f80c-2315-4698-a3e5-f25e6e516d50",
   "metadata": {},
   "source": [
    "#### Train data with standardized feature"
   ]
  },
  {
   "cell_type": "code",
   "execution_count": 36,
   "id": "f159bad9-3d28-448a-b5a9-6706b4f24e96",
   "metadata": {},
   "outputs": [],
   "source": [
    "#make a copy of dataframe\n",
    "salary3 = salary2.copy()"
   ]
  },
  {
   "cell_type": "code",
   "execution_count": 37,
   "id": "a3384598-9a8a-4764-9fea-35e30f13117a",
   "metadata": {},
   "outputs": [],
   "source": [
    "x = salary3[['years']]\n",
    "y = salary3['income']"
   ]
  },
  {
   "cell_type": "code",
   "execution_count": 38,
   "id": "993296cf-b16e-4313-8bd5-ccb4e00d8a50",
   "metadata": {},
   "outputs": [],
   "source": [
    "#split the dataset\n",
    "xtrain, xtest, ytrain, ytest = train_test_split(x, y, train_size = 0.7, random_state = 101)"
   ]
  },
  {
   "cell_type": "code",
   "execution_count": 39,
   "id": "e70b2698-ed56-4789-87eb-c4598fa9aa00",
   "metadata": {},
   "outputs": [],
   "source": [
    "#create an instance\n",
    "std_scaler = StandardScaler()"
   ]
  },
  {
   "cell_type": "code",
   "execution_count": 40,
   "id": "131e7095-a1a8-4cc8-97c4-9f8c6561d410",
   "metadata": {},
   "outputs": [],
   "source": [
    "#scale\n",
    "xtrain_scaled = std_scaler.fit_transform(xtrain)\n",
    "xtest_scaled = std_scaler.fit_transform(xtest)"
   ]
  },
  {
   "cell_type": "code",
   "execution_count": 41,
   "id": "05fb46fe-c99d-4413-bb40-e6e9a5ac42e2",
   "metadata": {},
   "outputs": [
    {
     "data": {
      "text/plain": [
       "2"
      ]
     },
     "execution_count": 41,
     "metadata": {},
     "output_type": "execute_result"
    }
   ],
   "source": [
    "#shape of split data-subsets\n",
    "xtrain_scaled.ndim"
   ]
  },
  {
   "cell_type": "code",
   "execution_count": 42,
   "id": "8426f49d-8073-4403-8e88-7c428336bb9d",
   "metadata": {},
   "outputs": [
    {
     "name": "stdout",
     "output_type": "stream",
     "text": [
      "type of the xtrain:  <class 'pandas.core.frame.DataFrame'>\n",
      "type of the test object:  <class 'pandas.core.series.Series'>\n"
     ]
    }
   ],
   "source": [
    "print(\"type of the xtrain: \", type(xtrain))\n",
    "print(\"type of the test object: \", type(ytest))"
   ]
  },
  {
   "cell_type": "code",
   "execution_count": 43,
   "id": "b2bbc77e-a8a6-40a2-9086-ae0bb653e955",
   "metadata": {},
   "outputs": [
    {
     "data": {
      "text/html": [
       "<style>#sk-container-id-2 {\n",
       "  /* Definition of color scheme common for light and dark mode */\n",
       "  --sklearn-color-text: black;\n",
       "  --sklearn-color-line: gray;\n",
       "  /* Definition of color scheme for unfitted estimators */\n",
       "  --sklearn-color-unfitted-level-0: #fff5e6;\n",
       "  --sklearn-color-unfitted-level-1: #f6e4d2;\n",
       "  --sklearn-color-unfitted-level-2: #ffe0b3;\n",
       "  --sklearn-color-unfitted-level-3: chocolate;\n",
       "  /* Definition of color scheme for fitted estimators */\n",
       "  --sklearn-color-fitted-level-0: #f0f8ff;\n",
       "  --sklearn-color-fitted-level-1: #d4ebff;\n",
       "  --sklearn-color-fitted-level-2: #b3dbfd;\n",
       "  --sklearn-color-fitted-level-3: cornflowerblue;\n",
       "\n",
       "  /* Specific color for light theme */\n",
       "  --sklearn-color-text-on-default-background: var(--sg-text-color, var(--theme-code-foreground, var(--jp-content-font-color1, black)));\n",
       "  --sklearn-color-background: var(--sg-background-color, var(--theme-background, var(--jp-layout-color0, white)));\n",
       "  --sklearn-color-border-box: var(--sg-text-color, var(--theme-code-foreground, var(--jp-content-font-color1, black)));\n",
       "  --sklearn-color-icon: #696969;\n",
       "\n",
       "  @media (prefers-color-scheme: dark) {\n",
       "    /* Redefinition of color scheme for dark theme */\n",
       "    --sklearn-color-text-on-default-background: var(--sg-text-color, var(--theme-code-foreground, var(--jp-content-font-color1, white)));\n",
       "    --sklearn-color-background: var(--sg-background-color, var(--theme-background, var(--jp-layout-color0, #111)));\n",
       "    --sklearn-color-border-box: var(--sg-text-color, var(--theme-code-foreground, var(--jp-content-font-color1, white)));\n",
       "    --sklearn-color-icon: #878787;\n",
       "  }\n",
       "}\n",
       "\n",
       "#sk-container-id-2 {\n",
       "  color: var(--sklearn-color-text);\n",
       "}\n",
       "\n",
       "#sk-container-id-2 pre {\n",
       "  padding: 0;\n",
       "}\n",
       "\n",
       "#sk-container-id-2 input.sk-hidden--visually {\n",
       "  border: 0;\n",
       "  clip: rect(1px 1px 1px 1px);\n",
       "  clip: rect(1px, 1px, 1px, 1px);\n",
       "  height: 1px;\n",
       "  margin: -1px;\n",
       "  overflow: hidden;\n",
       "  padding: 0;\n",
       "  position: absolute;\n",
       "  width: 1px;\n",
       "}\n",
       "\n",
       "#sk-container-id-2 div.sk-dashed-wrapped {\n",
       "  border: 1px dashed var(--sklearn-color-line);\n",
       "  margin: 0 0.4em 0.5em 0.4em;\n",
       "  box-sizing: border-box;\n",
       "  padding-bottom: 0.4em;\n",
       "  background-color: var(--sklearn-color-background);\n",
       "}\n",
       "\n",
       "#sk-container-id-2 div.sk-container {\n",
       "  /* jupyter's `normalize.less` sets `[hidden] { display: none; }`\n",
       "     but bootstrap.min.css set `[hidden] { display: none !important; }`\n",
       "     so we also need the `!important` here to be able to override the\n",
       "     default hidden behavior on the sphinx rendered scikit-learn.org.\n",
       "     See: https://github.com/scikit-learn/scikit-learn/issues/21755 */\n",
       "  display: inline-block !important;\n",
       "  position: relative;\n",
       "}\n",
       "\n",
       "#sk-container-id-2 div.sk-text-repr-fallback {\n",
       "  display: none;\n",
       "}\n",
       "\n",
       "div.sk-parallel-item,\n",
       "div.sk-serial,\n",
       "div.sk-item {\n",
       "  /* draw centered vertical line to link estimators */\n",
       "  background-image: linear-gradient(var(--sklearn-color-text-on-default-background), var(--sklearn-color-text-on-default-background));\n",
       "  background-size: 2px 100%;\n",
       "  background-repeat: no-repeat;\n",
       "  background-position: center center;\n",
       "}\n",
       "\n",
       "/* Parallel-specific style estimator block */\n",
       "\n",
       "#sk-container-id-2 div.sk-parallel-item::after {\n",
       "  content: \"\";\n",
       "  width: 100%;\n",
       "  border-bottom: 2px solid var(--sklearn-color-text-on-default-background);\n",
       "  flex-grow: 1;\n",
       "}\n",
       "\n",
       "#sk-container-id-2 div.sk-parallel {\n",
       "  display: flex;\n",
       "  align-items: stretch;\n",
       "  justify-content: center;\n",
       "  background-color: var(--sklearn-color-background);\n",
       "  position: relative;\n",
       "}\n",
       "\n",
       "#sk-container-id-2 div.sk-parallel-item {\n",
       "  display: flex;\n",
       "  flex-direction: column;\n",
       "}\n",
       "\n",
       "#sk-container-id-2 div.sk-parallel-item:first-child::after {\n",
       "  align-self: flex-end;\n",
       "  width: 50%;\n",
       "}\n",
       "\n",
       "#sk-container-id-2 div.sk-parallel-item:last-child::after {\n",
       "  align-self: flex-start;\n",
       "  width: 50%;\n",
       "}\n",
       "\n",
       "#sk-container-id-2 div.sk-parallel-item:only-child::after {\n",
       "  width: 0;\n",
       "}\n",
       "\n",
       "/* Serial-specific style estimator block */\n",
       "\n",
       "#sk-container-id-2 div.sk-serial {\n",
       "  display: flex;\n",
       "  flex-direction: column;\n",
       "  align-items: center;\n",
       "  background-color: var(--sklearn-color-background);\n",
       "  padding-right: 1em;\n",
       "  padding-left: 1em;\n",
       "}\n",
       "\n",
       "\n",
       "/* Toggleable style: style used for estimator/Pipeline/ColumnTransformer box that is\n",
       "clickable and can be expanded/collapsed.\n",
       "- Pipeline and ColumnTransformer use this feature and define the default style\n",
       "- Estimators will overwrite some part of the style using the `sk-estimator` class\n",
       "*/\n",
       "\n",
       "/* Pipeline and ColumnTransformer style (default) */\n",
       "\n",
       "#sk-container-id-2 div.sk-toggleable {\n",
       "  /* Default theme specific background. It is overwritten whether we have a\n",
       "  specific estimator or a Pipeline/ColumnTransformer */\n",
       "  background-color: var(--sklearn-color-background);\n",
       "}\n",
       "\n",
       "/* Toggleable label */\n",
       "#sk-container-id-2 label.sk-toggleable__label {\n",
       "  cursor: pointer;\n",
       "  display: block;\n",
       "  width: 100%;\n",
       "  margin-bottom: 0;\n",
       "  padding: 0.5em;\n",
       "  box-sizing: border-box;\n",
       "  text-align: center;\n",
       "}\n",
       "\n",
       "#sk-container-id-2 label.sk-toggleable__label-arrow:before {\n",
       "  /* Arrow on the left of the label */\n",
       "  content: \"▸\";\n",
       "  float: left;\n",
       "  margin-right: 0.25em;\n",
       "  color: var(--sklearn-color-icon);\n",
       "}\n",
       "\n",
       "#sk-container-id-2 label.sk-toggleable__label-arrow:hover:before {\n",
       "  color: var(--sklearn-color-text);\n",
       "}\n",
       "\n",
       "/* Toggleable content - dropdown */\n",
       "\n",
       "#sk-container-id-2 div.sk-toggleable__content {\n",
       "  max-height: 0;\n",
       "  max-width: 0;\n",
       "  overflow: hidden;\n",
       "  text-align: left;\n",
       "  /* unfitted */\n",
       "  background-color: var(--sklearn-color-unfitted-level-0);\n",
       "}\n",
       "\n",
       "#sk-container-id-2 div.sk-toggleable__content.fitted {\n",
       "  /* fitted */\n",
       "  background-color: var(--sklearn-color-fitted-level-0);\n",
       "}\n",
       "\n",
       "#sk-container-id-2 div.sk-toggleable__content pre {\n",
       "  margin: 0.2em;\n",
       "  border-radius: 0.25em;\n",
       "  color: var(--sklearn-color-text);\n",
       "  /* unfitted */\n",
       "  background-color: var(--sklearn-color-unfitted-level-0);\n",
       "}\n",
       "\n",
       "#sk-container-id-2 div.sk-toggleable__content.fitted pre {\n",
       "  /* unfitted */\n",
       "  background-color: var(--sklearn-color-fitted-level-0);\n",
       "}\n",
       "\n",
       "#sk-container-id-2 input.sk-toggleable__control:checked~div.sk-toggleable__content {\n",
       "  /* Expand drop-down */\n",
       "  max-height: 200px;\n",
       "  max-width: 100%;\n",
       "  overflow: auto;\n",
       "}\n",
       "\n",
       "#sk-container-id-2 input.sk-toggleable__control:checked~label.sk-toggleable__label-arrow:before {\n",
       "  content: \"▾\";\n",
       "}\n",
       "\n",
       "/* Pipeline/ColumnTransformer-specific style */\n",
       "\n",
       "#sk-container-id-2 div.sk-label input.sk-toggleable__control:checked~label.sk-toggleable__label {\n",
       "  color: var(--sklearn-color-text);\n",
       "  background-color: var(--sklearn-color-unfitted-level-2);\n",
       "}\n",
       "\n",
       "#sk-container-id-2 div.sk-label.fitted input.sk-toggleable__control:checked~label.sk-toggleable__label {\n",
       "  background-color: var(--sklearn-color-fitted-level-2);\n",
       "}\n",
       "\n",
       "/* Estimator-specific style */\n",
       "\n",
       "/* Colorize estimator box */\n",
       "#sk-container-id-2 div.sk-estimator input.sk-toggleable__control:checked~label.sk-toggleable__label {\n",
       "  /* unfitted */\n",
       "  background-color: var(--sklearn-color-unfitted-level-2);\n",
       "}\n",
       "\n",
       "#sk-container-id-2 div.sk-estimator.fitted input.sk-toggleable__control:checked~label.sk-toggleable__label {\n",
       "  /* fitted */\n",
       "  background-color: var(--sklearn-color-fitted-level-2);\n",
       "}\n",
       "\n",
       "#sk-container-id-2 div.sk-label label.sk-toggleable__label,\n",
       "#sk-container-id-2 div.sk-label label {\n",
       "  /* The background is the default theme color */\n",
       "  color: var(--sklearn-color-text-on-default-background);\n",
       "}\n",
       "\n",
       "/* On hover, darken the color of the background */\n",
       "#sk-container-id-2 div.sk-label:hover label.sk-toggleable__label {\n",
       "  color: var(--sklearn-color-text);\n",
       "  background-color: var(--sklearn-color-unfitted-level-2);\n",
       "}\n",
       "\n",
       "/* Label box, darken color on hover, fitted */\n",
       "#sk-container-id-2 div.sk-label.fitted:hover label.sk-toggleable__label.fitted {\n",
       "  color: var(--sklearn-color-text);\n",
       "  background-color: var(--sklearn-color-fitted-level-2);\n",
       "}\n",
       "\n",
       "/* Estimator label */\n",
       "\n",
       "#sk-container-id-2 div.sk-label label {\n",
       "  font-family: monospace;\n",
       "  font-weight: bold;\n",
       "  display: inline-block;\n",
       "  line-height: 1.2em;\n",
       "}\n",
       "\n",
       "#sk-container-id-2 div.sk-label-container {\n",
       "  text-align: center;\n",
       "}\n",
       "\n",
       "/* Estimator-specific */\n",
       "#sk-container-id-2 div.sk-estimator {\n",
       "  font-family: monospace;\n",
       "  border: 1px dotted var(--sklearn-color-border-box);\n",
       "  border-radius: 0.25em;\n",
       "  box-sizing: border-box;\n",
       "  margin-bottom: 0.5em;\n",
       "  /* unfitted */\n",
       "  background-color: var(--sklearn-color-unfitted-level-0);\n",
       "}\n",
       "\n",
       "#sk-container-id-2 div.sk-estimator.fitted {\n",
       "  /* fitted */\n",
       "  background-color: var(--sklearn-color-fitted-level-0);\n",
       "}\n",
       "\n",
       "/* on hover */\n",
       "#sk-container-id-2 div.sk-estimator:hover {\n",
       "  /* unfitted */\n",
       "  background-color: var(--sklearn-color-unfitted-level-2);\n",
       "}\n",
       "\n",
       "#sk-container-id-2 div.sk-estimator.fitted:hover {\n",
       "  /* fitted */\n",
       "  background-color: var(--sklearn-color-fitted-level-2);\n",
       "}\n",
       "\n",
       "/* Specification for estimator info (e.g. \"i\" and \"?\") */\n",
       "\n",
       "/* Common style for \"i\" and \"?\" */\n",
       "\n",
       ".sk-estimator-doc-link,\n",
       "a:link.sk-estimator-doc-link,\n",
       "a:visited.sk-estimator-doc-link {\n",
       "  float: right;\n",
       "  font-size: smaller;\n",
       "  line-height: 1em;\n",
       "  font-family: monospace;\n",
       "  background-color: var(--sklearn-color-background);\n",
       "  border-radius: 1em;\n",
       "  height: 1em;\n",
       "  width: 1em;\n",
       "  text-decoration: none !important;\n",
       "  margin-left: 1ex;\n",
       "  /* unfitted */\n",
       "  border: var(--sklearn-color-unfitted-level-1) 1pt solid;\n",
       "  color: var(--sklearn-color-unfitted-level-1);\n",
       "}\n",
       "\n",
       ".sk-estimator-doc-link.fitted,\n",
       "a:link.sk-estimator-doc-link.fitted,\n",
       "a:visited.sk-estimator-doc-link.fitted {\n",
       "  /* fitted */\n",
       "  border: var(--sklearn-color-fitted-level-1) 1pt solid;\n",
       "  color: var(--sklearn-color-fitted-level-1);\n",
       "}\n",
       "\n",
       "/* On hover */\n",
       "div.sk-estimator:hover .sk-estimator-doc-link:hover,\n",
       ".sk-estimator-doc-link:hover,\n",
       "div.sk-label-container:hover .sk-estimator-doc-link:hover,\n",
       ".sk-estimator-doc-link:hover {\n",
       "  /* unfitted */\n",
       "  background-color: var(--sklearn-color-unfitted-level-3);\n",
       "  color: var(--sklearn-color-background);\n",
       "  text-decoration: none;\n",
       "}\n",
       "\n",
       "div.sk-estimator.fitted:hover .sk-estimator-doc-link.fitted:hover,\n",
       ".sk-estimator-doc-link.fitted:hover,\n",
       "div.sk-label-container:hover .sk-estimator-doc-link.fitted:hover,\n",
       ".sk-estimator-doc-link.fitted:hover {\n",
       "  /* fitted */\n",
       "  background-color: var(--sklearn-color-fitted-level-3);\n",
       "  color: var(--sklearn-color-background);\n",
       "  text-decoration: none;\n",
       "}\n",
       "\n",
       "/* Span, style for the box shown on hovering the info icon */\n",
       ".sk-estimator-doc-link span {\n",
       "  display: none;\n",
       "  z-index: 9999;\n",
       "  position: relative;\n",
       "  font-weight: normal;\n",
       "  right: .2ex;\n",
       "  padding: .5ex;\n",
       "  margin: .5ex;\n",
       "  width: min-content;\n",
       "  min-width: 20ex;\n",
       "  max-width: 50ex;\n",
       "  color: var(--sklearn-color-text);\n",
       "  box-shadow: 2pt 2pt 4pt #999;\n",
       "  /* unfitted */\n",
       "  background: var(--sklearn-color-unfitted-level-0);\n",
       "  border: .5pt solid var(--sklearn-color-unfitted-level-3);\n",
       "}\n",
       "\n",
       ".sk-estimator-doc-link.fitted span {\n",
       "  /* fitted */\n",
       "  background: var(--sklearn-color-fitted-level-0);\n",
       "  border: var(--sklearn-color-fitted-level-3);\n",
       "}\n",
       "\n",
       ".sk-estimator-doc-link:hover span {\n",
       "  display: block;\n",
       "}\n",
       "\n",
       "/* \"?\"-specific style due to the `<a>` HTML tag */\n",
       "\n",
       "#sk-container-id-2 a.estimator_doc_link {\n",
       "  float: right;\n",
       "  font-size: 1rem;\n",
       "  line-height: 1em;\n",
       "  font-family: monospace;\n",
       "  background-color: var(--sklearn-color-background);\n",
       "  border-radius: 1rem;\n",
       "  height: 1rem;\n",
       "  width: 1rem;\n",
       "  text-decoration: none;\n",
       "  /* unfitted */\n",
       "  color: var(--sklearn-color-unfitted-level-1);\n",
       "  border: var(--sklearn-color-unfitted-level-1) 1pt solid;\n",
       "}\n",
       "\n",
       "#sk-container-id-2 a.estimator_doc_link.fitted {\n",
       "  /* fitted */\n",
       "  border: var(--sklearn-color-fitted-level-1) 1pt solid;\n",
       "  color: var(--sklearn-color-fitted-level-1);\n",
       "}\n",
       "\n",
       "/* On hover */\n",
       "#sk-container-id-2 a.estimator_doc_link:hover {\n",
       "  /* unfitted */\n",
       "  background-color: var(--sklearn-color-unfitted-level-3);\n",
       "  color: var(--sklearn-color-background);\n",
       "  text-decoration: none;\n",
       "}\n",
       "\n",
       "#sk-container-id-2 a.estimator_doc_link.fitted:hover {\n",
       "  /* fitted */\n",
       "  background-color: var(--sklearn-color-fitted-level-3);\n",
       "}\n",
       "</style><div id=\"sk-container-id-2\" class=\"sk-top-container\"><div class=\"sk-text-repr-fallback\"><pre>LinearRegression()</pre><b>In a Jupyter environment, please rerun this cell to show the HTML representation or trust the notebook. <br />On GitHub, the HTML representation is unable to render, please try loading this page with nbviewer.org.</b></div><div class=\"sk-container\" hidden><div class=\"sk-item\"><div class=\"sk-estimator fitted sk-toggleable\"><input class=\"sk-toggleable__control sk-hidden--visually\" id=\"sk-estimator-id-2\" type=\"checkbox\" checked><label for=\"sk-estimator-id-2\" class=\"sk-toggleable__label fitted sk-toggleable__label-arrow fitted\">&nbsp;&nbsp;LinearRegression<a class=\"sk-estimator-doc-link fitted\" rel=\"noreferrer\" target=\"_blank\" href=\"https://scikit-learn.org/1.5/modules/generated/sklearn.linear_model.LinearRegression.html\">?<span>Documentation for LinearRegression</span></a><span class=\"sk-estimator-doc-link fitted\">i<span>Fitted</span></span></label><div class=\"sk-toggleable__content fitted\"><pre>LinearRegression()</pre></div> </div></div></div></div>"
      ],
      "text/plain": [
       "LinearRegression()"
      ]
     },
     "execution_count": 43,
     "metadata": {},
     "output_type": "execute_result"
    }
   ],
   "source": [
    "#create model\n",
    "model2 = LinearRegression()\n",
    "#train the dataset\n",
    "model2.fit(xtrain_scaled, ytrain)"
   ]
  },
  {
   "cell_type": "code",
   "execution_count": 44,
   "id": "a3e0c513-abba-4504-91a3-fc46c5e98b1c",
   "metadata": {},
   "outputs": [
    {
     "name": "stdout",
     "output_type": "stream",
     "text": [
      "yintercept: 71606.75\n",
      "slope: 25049.551\n"
     ]
    }
   ],
   "source": [
    "print(\"yintercept: {0}\".format(round(model2.intercept_.item(),3)))\n",
    "print(\"slope: {0}\".format(round(model2.coef_.item(),3)))"
   ]
  },
  {
   "cell_type": "code",
   "execution_count": 45,
   "id": "f19e08b3-d02f-40ea-86dd-9f0e61db1032",
   "metadata": {},
   "outputs": [],
   "source": [
    "#prediction\n",
    "ytest_pred = model2.predict(xtest_scaled)"
   ]
  },
  {
   "cell_type": "code",
   "execution_count": 46,
   "id": "5ce10a33-57a7-4483-826e-fa2bb0a87755",
   "metadata": {},
   "outputs": [],
   "source": [
    "#metrics\n",
    "model2_mse = mean_squared_error(ytest_pred, ytest)\n",
    "model2_mae = mean_absolute_error(ytest_pred, ytest)\n",
    "model2_mape = mean_absolute_percentage_error(ytest_pred, ytest)"
   ]
  },
  {
   "cell_type": "code",
   "execution_count": 53,
   "id": "6a659df0-158e-4751-b9ac-53a1f5fc9a8e",
   "metadata": {},
   "outputs": [],
   "source": [
    "model2_r2 = r2_score(ytest_pred, ytest)"
   ]
  },
  {
   "cell_type": "code",
   "execution_count": 54,
   "id": "a4b05182-753e-4251-9653-06a7ed8a1817",
   "metadata": {},
   "outputs": [
    {
     "name": "stdout",
     "output_type": "stream",
     "text": [
      "Mean Absolute Error: 10456.25000000001\n",
      "Mean Absolute Percentage Error: 0.19549686730490168\n",
      "Mean Squared Error: 145481771.73431057\n",
      "R-squared: 0.7681491560495676\n"
     ]
    }
   ],
   "source": [
    "#view all errors\n",
    "print(\"Mean Absolute Error: {0}\".format(model2_mae))\n",
    "print(\"Mean Absolute Percentage Error: {0}\".format(model2_mape))\n",
    "print(\"Mean Squared Error: {0}\".format(model2_mse))\n",
    "print(\"R-squared: {0}\".format(model2_r2))"
   ]
  },
  {
   "cell_type": "code",
   "execution_count": 48,
   "id": "560121c4-a2ea-4808-ac1f-5a4bd98e53a9",
   "metadata": {},
   "outputs": [],
   "source": [
    "## Model performance on training data\n",
    "ytrain_pred = model2.predict(xtrain_scaled)\n",
    "#calcualate residuals\n",
    "residuals = ytrain - ytrain_pred"
   ]
  },
  {
   "cell_type": "code",
   "execution_count": 49,
   "id": "7f882bd7-ac90-4f41-99a6-3fd64d56640e",
   "metadata": {},
   "outputs": [],
   "source": [
    "#convert to 1d array for plotting\n",
    "xtest_scaled_1d = xtest_scaled.ravel()\n",
    "#ytest_pred_1d = ytest_pred.ravel()\n",
    "xtrain_scaled_1d = xtrain_scaled.ravel()\n",
    "#ytrain_pred_1d = ytrain_pred.ravel()"
   ]
  },
  {
   "cell_type": "code",
   "execution_count": 50,
   "id": "a46747b6-c787-4f3e-aad3-81b5843cc256",
   "metadata": {},
   "outputs": [
    {
     "data": {
      "image/png": "[encoded data removed]",
      "text/plain": [
       "<Figure size 800x400 with 2 Axes>"
      ]
     },
     "metadata": {},
     "output_type": "display_data"
    }
   ],
   "source": [
    "#visualize the result of model on training and test set\n",
    "fig, ax = plt.subplots(1, 2, figsize = (8,4))\n",
    "\n",
    "#subplot 1\n",
    "ax[0].scatter(xtest_scaled, ytest, color = 'blue', label = 'original salary', s=11)\n",
    "sns.lineplot(x=xtest_scaled_1d, y=ytest_pred, ax=ax[0], color='red', label='predicted salary')\n",
    "ax[0].set_title('model prediction on test data', fontsize = 10)\n",
    "ax[0].tick_params(axis = 'both', labelsize = 7)\n",
    "ax[0].set_xlabel('work exp', fontsize = 8)\n",
    "ax[0].set_ylabel('salary', fontsize=8)\n",
    "\n",
    "#subplot 2\n",
    "ax[1].scatter(xtrain_scaled, ytrain, color = 'blue', label = 'original salary', s=11)\n",
    "sns.lineplot(x=xtrain_scaled_1d, y=ytrain_pred, ax=ax[1], color='red', label='predicted salary')\n",
    "ax[1].set_title('model prediction on train data', fontsize = 10)\n",
    "ax[1].tick_params(axis = 'both', labelsize = 7)\n",
    "#ax[1].set_xlabel('work exp', fontsize = 8)\n",
    "ax[1].set_ylabel('salary', fontsize=8)\n",
    "\n",
    "plt.show()"
   ]
  },
  {
   "cell_type": "markdown",
   "id": "f86e5ebc-8285-428a-aab6-797b09f5769b",
   "metadata": {},
   "source": [
    "After standardizing the work-experience feature, the output graph shows that the model didn't fit the data properly.  \n",
    "The line was a better fit with un-standardized feature and error-metrics were also lower.  \n",
    "The mean absolute error is `~$5400` with first model and almost double `~$10,400` with second model."
   ]
  },
  {
   "cell_type": "markdown",
   "id": "72577f0b-d290-4576-99db-3df8b68765a8",
   "metadata": {},
   "source": [
    "___Seems like due to small dataset (40 observations only), model is overfitting. In the section below, ive tried out lasso and ridge regression to see if the metrics improve or not.___"
   ]
  },
  {
   "cell_type": "markdown",
   "id": "20789f08-a726-4b79-b5e2-3529a31a1376",
   "metadata": {},
   "source": [
    "### Mitigate Overfitting problem"
   ]
  },
  {
   "cell_type": "markdown",
   "id": "56da5912-069a-42f8-9ec3-f09d8bc335fd",
   "metadata": {},
   "source": [
    "### 1. Lasso Regression"
   ]
  },
  {
   "cell_type": "code",
   "execution_count": 64,
   "id": "50c8b84c-344d-403a-abe1-81ff6e6da9b3",
   "metadata": {},
   "outputs": [],
   "source": [
    "#initialize lasso model\n",
    "lasso = Lasso(alpha = 100)\n",
    "#fit the model\n",
    "lasso.fit(xtrain_scaled, ytrain)\n",
    "#make predictions\n",
    "lasso_test_pred = lasso.predict(xtest_scaled)\n",
    "#evaluation metrics\n",
    "lasso_mse = mean_squared_error(ytest, lasso_test_pred)\n",
    "lasso_r2 = r2_score(ytest, lasso_test_pred)\n",
    "lasso_mae = mean_absolute_error(ytest, lasso_test_pred)"
   ]
  },
  {
   "cell_type": "code",
   "execution_count": 65,
   "id": "4b76156c-ce5e-4e28-b5f8-cfc2f2cf4b7b",
   "metadata": {},
   "outputs": [
    {
     "name": "stdout",
     "output_type": "stream",
     "text": [
      "Lasso Mean Squared Error: 145209741.04726896\n",
      "Lasso Mean Absolute Error: 10456.250000000005\n",
      "Lasso R^2 Score: 0.75511915044367\n"
     ]
    }
   ],
   "source": [
    "#print all metrics\n",
    "print(f'Lasso Mean Squared Error: {lasso_mse}')\n",
    "print(f'Lasso Mean Absolute Error: {lasso_mae}')\n",
    "print(f'Lasso R^2 Score: {lasso_r2}')"
   ]
  },
  {
   "cell_type": "code",
   "execution_count": 63,
   "id": "32613e4b-0f68-4b5b-aa18-c0489002c02b",
   "metadata": {},
   "outputs": [],
   "source": [
    "# # Plotting the results\n",
    "# import matplotlib.pyplot as plt\n",
    "# plt.figure(figsize=(6, 4))\n",
    "# plt.scatter(X_test, y_test, color='blue', label='Actual')\n",
    "# plt.plot(X_test, y_pred, color='red', linewidth=2, label='Predicted')\n",
    "# plt.xlabel('Work Experience')\n",
    "# plt.ylabel('Salary')\n",
    "# plt.title('Lasso Regression')\n",
    "# plt.legend()\n",
    "# plt.show()"
   ]
  },
  {
   "cell_type": "code",
   "execution_count": null,
   "id": "073998ae-fc22-429b-b4fc-d511d5dbf89a",
   "metadata": {},
   "outputs": [],
   "source": [
    "#FINDING BEST ALPHA THROUGH CROSS-VALIDATION\n",
    "# Define features and target\n",
    "X = df[['work_experience']]\n",
    "y = df['salary']\n",
    "\n",
    "# Split data into train and test sets\n",
    "X_train, X_test, y_train, y_test = train_test_split(X, y, test_size=0.2, random_state=42)\n",
    "\n",
    "# Standardize features\n",
    "scaler = StandardScaler()\n",
    "X_train_scaled = scaler.fit_transform(X_train)\n",
    "X_test_scaled = scaler.transform(X_test)\n",
    "\n",
    "# Use LassoCV to find the best alpha\n",
    "lasso_cv = LassoCV(alphas=None, cv=10, random_state=42)  # alphas=None lets LassoCV choose a range of alphas automatically\n",
    "lasso_cv.fit(X_train_scaled, y_train)\n",
    "\n",
    "# Best alpha found by cross-validation\n",
    "best_alpha = lasso_cv.alpha_\n",
    "print(f'Best alpha: {best_alpha}')\n",
    "\n",
    "# Train Lasso model with the best alpha\n",
    "lasso_best = Lasso(alpha=best_alpha)\n",
    "lasso_best.fit(X_train_scaled, y_train)\n",
    "\n",
    "# Make predictions\n",
    "y_pred = lasso_best.predict(X_test_scaled)\n",
    "\n",
    "# Evaluate the model\n",
    "mse = mean_squared_error(y_test, y_pred)\n",
    "r2 = r2_score(y_test, y_pred)\n",
    "\n",
    "print(f'Mean Squared Error: {mse}')\n",
    "print(f'R^2 Score: {r2}')\n",
    "\n",
    "# Plotting the results\n",
    "import matplotlib.pyplot as plt\n",
    "plt.figure(figsize=(6, 4))\n",
    "plt.scatter(X_test, y_test, color='blue', label='Actual')\n",
    "plt.plot(X_test, y_pred, color='red', linewidth=2, label='Predicted')\n",
    "plt.xlabel('Work Experience')\n",
    "plt.ylabel('Salary')\n",
    "plt.title('Lasso Regression with Optimal Alpha')\n",
    "plt.legend()\n",
    "plt.show()"
   ]
  }
 ],
 "metadata": {
  "kernelspec": {
   "display_name": "Python 3 (ipykernel)",
   "language": "python",
   "name": "python3"
  },
  "language_info": {
   "codemirror_mode": {
    "name": "ipython",
    "version": 3
   },
   "file_extension": ".py",
   "mimetype": "text/x-python",
   "name": "python",
   "nbconvert_exporter": "python",
   "pygments_lexer": "ipython3",
   "version": "3.11.8"
  }
 },
 "nbformat": 4,
 "nbformat_minor": 5
}
